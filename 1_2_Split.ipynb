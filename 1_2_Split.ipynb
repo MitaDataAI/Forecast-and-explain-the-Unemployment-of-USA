{
 "cells": [
  {
   "cell_type": "markdown",
   "id": "c2b2fa3a",
   "metadata": {},
   "source": [
    "# Package"
   ]
  },
  {
   "cell_type": "code",
   "execution_count": 61,
   "id": "927aab38",
   "metadata": {},
   "outputs": [],
   "source": [
    "import pandas as pd"
   ]
  },
  {
   "cell_type": "markdown",
   "id": "96751376",
   "metadata": {},
   "source": [
    "# Importer les données stationnarisées"
   ]
  },
  {
   "cell_type": "code",
   "execution_count": 62,
   "id": "f34ce4ca",
   "metadata": {},
   "outputs": [],
   "source": [
    "df = pd.read_csv(\"df.csv\", index_col=\"date\")\n",
    "df_stationary = pd.read_csv(\"df_stationary.csv\", index_col=\"date\")"
   ]
  },
  {
   "cell_type": "code",
   "execution_count": 63,
   "id": "d50b45d0",
   "metadata": {},
   "outputs": [
    {
     "data": {
      "text/html": [
       "<div>\n",
       "<style scoped>\n",
       "    .dataframe tbody tr th:only-of-type {\n",
       "        vertical-align: middle;\n",
       "    }\n",
       "\n",
       "    .dataframe tbody tr th {\n",
       "        vertical-align: top;\n",
       "    }\n",
       "\n",
       "    .dataframe thead th {\n",
       "        text-align: right;\n",
       "    }\n",
       "</style>\n",
       "<table border=\"1\" class=\"dataframe\">\n",
       "  <thead>\n",
       "    <tr style=\"text-align: right;\">\n",
       "      <th></th>\n",
       "      <th>UNRATE</th>\n",
       "      <th>TB3MS</th>\n",
       "      <th>RPI</th>\n",
       "      <th>INDPRO</th>\n",
       "      <th>DPCERA3M086SBEA</th>\n",
       "      <th>S&amp;P 500</th>\n",
       "      <th>BUSLOANS</th>\n",
       "      <th>CPIAUCSL</th>\n",
       "      <th>OILPRICEx</th>\n",
       "      <th>M2SL</th>\n",
       "    </tr>\n",
       "    <tr>\n",
       "      <th>date</th>\n",
       "      <th></th>\n",
       "      <th></th>\n",
       "      <th></th>\n",
       "      <th></th>\n",
       "      <th></th>\n",
       "      <th></th>\n",
       "      <th></th>\n",
       "      <th></th>\n",
       "      <th></th>\n",
       "      <th></th>\n",
       "    </tr>\n",
       "  </thead>\n",
       "  <tbody>\n",
       "    <tr>\n",
       "      <th>1959-01-01</th>\n",
       "      <td>6.0</td>\n",
       "      <td>2.82</td>\n",
       "      <td>2583.560</td>\n",
       "      <td>21.9616</td>\n",
       "      <td>15.188</td>\n",
       "      <td>55.62</td>\n",
       "      <td>35.2130</td>\n",
       "      <td>29.01</td>\n",
       "      <td>3.00</td>\n",
       "      <td>286.6</td>\n",
       "    </tr>\n",
       "    <tr>\n",
       "      <th>1959-02-01</th>\n",
       "      <td>5.9</td>\n",
       "      <td>2.70</td>\n",
       "      <td>2593.596</td>\n",
       "      <td>22.3917</td>\n",
       "      <td>15.346</td>\n",
       "      <td>54.77</td>\n",
       "      <td>35.2201</td>\n",
       "      <td>29.00</td>\n",
       "      <td>3.00</td>\n",
       "      <td>287.7</td>\n",
       "    </tr>\n",
       "    <tr>\n",
       "      <th>1959-03-01</th>\n",
       "      <td>5.6</td>\n",
       "      <td>2.80</td>\n",
       "      <td>2610.396</td>\n",
       "      <td>22.7142</td>\n",
       "      <td>15.491</td>\n",
       "      <td>56.16</td>\n",
       "      <td>35.1304</td>\n",
       "      <td>28.97</td>\n",
       "      <td>2.97</td>\n",
       "      <td>289.2</td>\n",
       "    </tr>\n",
       "    <tr>\n",
       "      <th>1959-04-01</th>\n",
       "      <td>5.2</td>\n",
       "      <td>2.95</td>\n",
       "      <td>2627.446</td>\n",
       "      <td>23.1981</td>\n",
       "      <td>15.435</td>\n",
       "      <td>57.10</td>\n",
       "      <td>35.5581</td>\n",
       "      <td>28.98</td>\n",
       "      <td>2.97</td>\n",
       "      <td>290.1</td>\n",
       "    </tr>\n",
       "    <tr>\n",
       "      <th>1959-05-01</th>\n",
       "      <td>5.1</td>\n",
       "      <td>2.84</td>\n",
       "      <td>2642.720</td>\n",
       "      <td>23.5476</td>\n",
       "      <td>15.622</td>\n",
       "      <td>57.96</td>\n",
       "      <td>36.3064</td>\n",
       "      <td>29.04</td>\n",
       "      <td>2.97</td>\n",
       "      <td>292.2</td>\n",
       "    </tr>\n",
       "  </tbody>\n",
       "</table>\n",
       "</div>"
      ],
      "text/plain": [
       "            UNRATE  TB3MS       RPI   INDPRO  DPCERA3M086SBEA  S&P 500  \\\n",
       "date                                                                     \n",
       "1959-01-01     6.0   2.82  2583.560  21.9616           15.188    55.62   \n",
       "1959-02-01     5.9   2.70  2593.596  22.3917           15.346    54.77   \n",
       "1959-03-01     5.6   2.80  2610.396  22.7142           15.491    56.16   \n",
       "1959-04-01     5.2   2.95  2627.446  23.1981           15.435    57.10   \n",
       "1959-05-01     5.1   2.84  2642.720  23.5476           15.622    57.96   \n",
       "\n",
       "            BUSLOANS  CPIAUCSL  OILPRICEx   M2SL  \n",
       "date                                              \n",
       "1959-01-01   35.2130     29.01       3.00  286.6  \n",
       "1959-02-01   35.2201     29.00       3.00  287.7  \n",
       "1959-03-01   35.1304     28.97       2.97  289.2  \n",
       "1959-04-01   35.5581     28.98       2.97  290.1  \n",
       "1959-05-01   36.3064     29.04       2.97  292.2  "
      ]
     },
     "execution_count": 63,
     "metadata": {},
     "output_type": "execute_result"
    }
   ],
   "source": [
    "df.head()"
   ]
  },
  {
   "cell_type": "code",
   "execution_count": 64,
   "id": "534a61fa",
   "metadata": {},
   "outputs": [],
   "source": [
    "df.index = pd.to_datetime(df.index)\n",
    "df_stationary.index = pd.to_datetime(df_stationary.index) "
   ]
  },
  {
   "cell_type": "markdown",
   "id": "3b6b89d8",
   "metadata": {},
   "source": [
    "# Split les données"
   ]
  },
  {
   "cell_type": "code",
   "execution_count": 68,
   "id": "e567367e",
   "metadata": {},
   "outputs": [],
   "source": [
    "end_time_train = \"2009-12\" # \n",
    "\n",
    "df_train = df[df.index <= end_time_train]\n",
    "df_test = df[df.index > end_time_train]\n",
    "\n",
    "df_stationary_train = df_stationary[df_stationary.index <= end_time_train]\n",
    "df_stationary_test = df_stationary[df_stationary.index > end_time_train]"
   ]
  },
  {
   "cell_type": "code",
   "execution_count": 69,
   "id": "1435a673",
   "metadata": {},
   "outputs": [
    {
     "name": "stdout",
     "output_type": "stream",
     "text": [
      "2009-12-01 00:00:00\n",
      "2010-01-01 00:00:00\n",
      "2009-12-01 00:00:00\n",
      "2010-01-01 00:00:00\n"
     ]
    }
   ],
   "source": [
    "print(df_train.index[-1])\n",
    "print(df_test.index[0])\n",
    "\n",
    "print(df_stationary_train.index[-1])\n",
    "print(df_stationary_test.index[0])"
   ]
  },
  {
   "cell_type": "markdown",
   "id": "3ec2396e",
   "metadata": {},
   "source": [
    "# Exporter les splits"
   ]
  },
  {
   "cell_type": "code",
   "execution_count": 70,
   "id": "4efcd5b2",
   "metadata": {},
   "outputs": [],
   "source": [
    "df_train.to_csv(\"df_train.csv\")\n",
    "df_test.to_csv(\"df_test.csv\")\n",
    "\n",
    "df_stationary_train.to_csv(\"df_stationary_train.csv\")\n",
    "df_stationary_test.to_csv(\"df_stationary_test.csv\")"
   ]
  }
 ],
 "metadata": {
  "kernelspec": {
   "display_name": "Python (Travaux pratiques Bases)",
   "language": "python",
   "name": "venv-travaux"
  },
  "language_info": {
   "codemirror_mode": {
    "name": "ipython",
    "version": 3
   },
   "file_extension": ".py",
   "mimetype": "text/x-python",
   "name": "python",
   "nbconvert_exporter": "python",
   "pygments_lexer": "ipython3",
   "version": "3.12.10"
  }
 },
 "nbformat": 4,
 "nbformat_minor": 5
}
