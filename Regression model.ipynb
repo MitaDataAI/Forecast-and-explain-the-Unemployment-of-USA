{
 "cells": [
  {
   "cell_type": "markdown",
   "id": "0624f720",
   "metadata": {},
   "source": [
    "# Packages"
   ]
  },
  {
   "cell_type": "code",
   "execution_count": 9,
   "id": "309b2c25",
   "metadata": {},
   "outputs": [],
   "source": [
    "import pandas as pd\n",
    "from sklearn import linear_model"
   ]
  },
  {
   "cell_type": "markdown",
   "id": "78352974",
   "metadata": {},
   "source": [
    "# Importation des données"
   ]
  },
  {
   "cell_type": "code",
   "execution_count": null,
   "id": "cfe4e11a",
   "metadata": {},
   "outputs": [
    {
     "data": {
      "text/html": [
       "<div>\n",
       "<style scoped>\n",
       "    .dataframe tbody tr th:only-of-type {\n",
       "        vertical-align: middle;\n",
       "    }\n",
       "\n",
       "    .dataframe tbody tr th {\n",
       "        vertical-align: top;\n",
       "    }\n",
       "\n",
       "    .dataframe thead th {\n",
       "        text-align: right;\n",
       "    }\n",
       "</style>\n",
       "<table border=\"1\" class=\"dataframe\">\n",
       "  <thead>\n",
       "    <tr style=\"text-align: right;\">\n",
       "      <th></th>\n",
       "      <th>UNRATE</th>\n",
       "      <th>TB3MS</th>\n",
       "      <th>RPI</th>\n",
       "      <th>INDPRO</th>\n",
       "      <th>DPCERA3M086SBEA</th>\n",
       "      <th>S&amp;P 500</th>\n",
       "      <th>BUSLOANS</th>\n",
       "      <th>CPIAUCSL</th>\n",
       "      <th>OILPRICEx</th>\n",
       "      <th>M2SL</th>\n",
       "    </tr>\n",
       "    <tr>\n",
       "      <th>date</th>\n",
       "      <th></th>\n",
       "      <th></th>\n",
       "      <th></th>\n",
       "      <th></th>\n",
       "      <th></th>\n",
       "      <th></th>\n",
       "      <th></th>\n",
       "      <th></th>\n",
       "      <th></th>\n",
       "      <th></th>\n",
       "    </tr>\n",
       "  </thead>\n",
       "  <tbody>\n",
       "    <tr>\n",
       "      <th>1959-03-01</th>\n",
       "      <td>-0.695255</td>\n",
       "      <td>0.239822</td>\n",
       "      <td>NaN</td>\n",
       "      <td>NaN</td>\n",
       "      <td>NaN</td>\n",
       "      <td>NaN</td>\n",
       "      <td>NaN</td>\n",
       "      <td>NaN</td>\n",
       "      <td>NaN</td>\n",
       "      <td>NaN</td>\n",
       "    </tr>\n",
       "    <tr>\n",
       "      <th>1959-04-01</th>\n",
       "      <td>-0.928667</td>\n",
       "      <td>0.362111</td>\n",
       "      <td>0.335374</td>\n",
       "      <td>1.936032</td>\n",
       "      <td>-0.782896</td>\n",
       "      <td>0.297488</td>\n",
       "      <td>0.649776</td>\n",
       "      <td>0.506834</td>\n",
       "      <td>-0.047532</td>\n",
       "      <td>-0.511595</td>\n",
       "    </tr>\n",
       "    <tr>\n",
       "      <th>1959-05-01</th>\n",
       "      <td>-0.228433</td>\n",
       "      <td>-0.273793</td>\n",
       "      <td>0.274378</td>\n",
       "      <td>1.317259</td>\n",
       "      <td>1.185809</td>\n",
       "      <td>0.251476</td>\n",
       "      <td>1.512686</td>\n",
       "      <td>0.633134</td>\n",
       "      <td>-0.047532</td>\n",
       "      <td>0.385563</td>\n",
       "    </tr>\n",
       "    <tr>\n",
       "      <th>1959-06-01</th>\n",
       "      <td>-0.228433</td>\n",
       "      <td>0.900185</td>\n",
       "      <td>0.041290</td>\n",
       "      <td>-0.078140</td>\n",
       "      <td>0.130015</td>\n",
       "      <td>-0.406858</td>\n",
       "      <td>1.699139</td>\n",
       "      <td>0.123561</td>\n",
       "      <td>-0.047532</td>\n",
       "      <td>0.225724</td>\n",
       "    </tr>\n",
       "    <tr>\n",
       "      <th>1959-07-01</th>\n",
       "      <td>0.238390</td>\n",
       "      <td>-0.029214</td>\n",
       "      <td>-0.270407</td>\n",
       "      <td>-2.640901</td>\n",
       "      <td>-0.753297</td>\n",
       "      <td>0.919587</td>\n",
       "      <td>0.838832</td>\n",
       "      <td>-0.382298</td>\n",
       "      <td>-0.047532</td>\n",
       "      <td>-0.374791</td>\n",
       "    </tr>\n",
       "  </tbody>\n",
       "</table>\n",
       "</div>"
      ],
      "text/plain": [
       "              UNRATE     TB3MS       RPI    INDPRO  DPCERA3M086SBEA   S&P 500  \\\n",
       "date                                                                            \n",
       "1959-03-01 -0.695255  0.239822       NaN       NaN              NaN       NaN   \n",
       "1959-04-01 -0.928667  0.362111  0.335374  1.936032        -0.782896  0.297488   \n",
       "1959-05-01 -0.228433 -0.273793  0.274378  1.317259         1.185809  0.251476   \n",
       "1959-06-01 -0.228433  0.900185  0.041290 -0.078140         0.130015 -0.406858   \n",
       "1959-07-01  0.238390 -0.029214 -0.270407 -2.640901        -0.753297  0.919587   \n",
       "\n",
       "            BUSLOANS  CPIAUCSL  OILPRICEx      M2SL  \n",
       "date                                                 \n",
       "1959-03-01       NaN       NaN        NaN       NaN  \n",
       "1959-04-01  0.649776  0.506834  -0.047532 -0.511595  \n",
       "1959-05-01  1.512686  0.633134  -0.047532  0.385563  \n",
       "1959-06-01  1.699139  0.123561  -0.047532  0.225724  \n",
       "1959-07-01  0.838832 -0.382298  -0.047532 -0.374791  "
      ]
     },
     "execution_count": 7,
     "metadata": {},
     "output_type": "execute_result"
    }
   ],
   "source": [
    "df_train = pd.read_csv(\"df_stationary_normalized_train.csv\", index_col=\"date\")\n",
    "df.head()"
   ]
  },
  {
   "cell_type": "markdown",
   "id": "1aaca5c5",
   "metadata": {},
   "source": [
    "# Régression linéaire"
   ]
  },
  {
   "cell_type": "code",
   "execution_count": null,
   "id": "00c5da0e",
   "metadata": {},
   "outputs": [],
   "source": [
    "linear_model.LinearRegression"
   ]
  },
  {
   "cell_type": "markdown",
   "id": "8e3da5bf",
   "metadata": {},
   "source": [
    "# "
   ]
  }
 ],
 "metadata": {
  "kernelspec": {
   "display_name": "Python (Travaux pratiques Bases)",
   "language": "python",
   "name": "venv-travaux"
  },
  "language_info": {
   "codemirror_mode": {
    "name": "ipython",
    "version": 3
   },
   "file_extension": ".py",
   "mimetype": "text/x-python",
   "name": "python",
   "nbconvert_exporter": "python",
   "pygments_lexer": "ipython3",
   "version": "3.12.10"
  }
 },
 "nbformat": 4,
 "nbformat_minor": 5
}
