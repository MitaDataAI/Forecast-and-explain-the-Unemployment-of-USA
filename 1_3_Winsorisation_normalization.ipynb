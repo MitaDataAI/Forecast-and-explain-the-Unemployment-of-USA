{
 "cells": [
  {
   "cell_type": "markdown",
   "id": "3e843780",
   "metadata": {},
   "source": [
    "# Package"
   ]
  },
  {
   "cell_type": "code",
   "execution_count": 25,
   "id": "8438fa14",
   "metadata": {},
   "outputs": [],
   "source": [
    "import pandas as pd"
   ]
  },
  {
   "cell_type": "markdown",
   "id": "8766ef4f",
   "metadata": {},
   "source": [
    "# Importer les données d'entrainement stationnarisées"
   ]
  },
  {
   "cell_type": "code",
   "execution_count": 26,
   "id": "4bdea73f",
   "metadata": {},
   "outputs": [],
   "source": [
    "df_stationary_train = pd.read_csv(\"df_stationary_train.csv\", index_col=\"date\")"
   ]
  },
  {
   "cell_type": "markdown",
   "id": "d361e171",
   "metadata": {},
   "source": [
    "# Normalisation"
   ]
  },
  {
   "cell_type": "code",
   "execution_count": 27,
   "id": "13616ec3",
   "metadata": {},
   "outputs": [],
   "source": [
    "df_stationary_train_normalized = df_stationary_train.apply(lambda col : ((col - col.mean()) / col.std()))"
   ]
  },
  {
   "cell_type": "code",
   "execution_count": 28,
   "id": "55abd75b",
   "metadata": {},
   "outputs": [
    {
     "data": {
      "text/html": [
       "<div>\n",
       "<style scoped>\n",
       "    .dataframe tbody tr th:only-of-type {\n",
       "        vertical-align: middle;\n",
       "    }\n",
       "\n",
       "    .dataframe tbody tr th {\n",
       "        vertical-align: top;\n",
       "    }\n",
       "\n",
       "    .dataframe thead th {\n",
       "        text-align: right;\n",
       "    }\n",
       "</style>\n",
       "<table border=\"1\" class=\"dataframe\">\n",
       "  <thead>\n",
       "    <tr style=\"text-align: right;\">\n",
       "      <th></th>\n",
       "      <th>UNRATE</th>\n",
       "      <th>TB3MS</th>\n",
       "      <th>RPI</th>\n",
       "      <th>INDPRO</th>\n",
       "      <th>DPCERA3M086SBEA</th>\n",
       "      <th>S&amp;P 500</th>\n",
       "      <th>BUSLOANS</th>\n",
       "      <th>CPIAUCSL</th>\n",
       "      <th>OILPRICEx</th>\n",
       "      <th>M2SL</th>\n",
       "    </tr>\n",
       "  </thead>\n",
       "  <tbody>\n",
       "    <tr>\n",
       "      <th>count</th>\n",
       "      <td>611.0000</td>\n",
       "      <td>611.0000</td>\n",
       "      <td>610.0000</td>\n",
       "      <td>610.0000</td>\n",
       "      <td>610.0000</td>\n",
       "      <td>610.0000</td>\n",
       "      <td>610.0000</td>\n",
       "      <td>610.0000</td>\n",
       "      <td>610.0000</td>\n",
       "      <td>610.0000</td>\n",
       "    </tr>\n",
       "    <tr>\n",
       "      <th>mean</th>\n",
       "      <td>-0.0000</td>\n",
       "      <td>-0.0000</td>\n",
       "      <td>0.0000</td>\n",
       "      <td>-0.0000</td>\n",
       "      <td>0.0000</td>\n",
       "      <td>-0.0000</td>\n",
       "      <td>0.0000</td>\n",
       "      <td>-0.0000</td>\n",
       "      <td>0.0000</td>\n",
       "      <td>-0.0000</td>\n",
       "    </tr>\n",
       "    <tr>\n",
       "      <th>std</th>\n",
       "      <td>1.0000</td>\n",
       "      <td>1.0000</td>\n",
       "      <td>1.0000</td>\n",
       "      <td>1.0000</td>\n",
       "      <td>1.0000</td>\n",
       "      <td>1.0000</td>\n",
       "      <td>1.0000</td>\n",
       "      <td>1.0000</td>\n",
       "      <td>1.0000</td>\n",
       "      <td>1.0000</td>\n",
       "    </tr>\n",
       "    <tr>\n",
       "      <th>min</th>\n",
       "      <td>-3.8490</td>\n",
       "      <td>-10.0483</td>\n",
       "      <td>-5.7283</td>\n",
       "      <td>-5.5692</td>\n",
       "      <td>-5.0701</td>\n",
       "      <td>-6.4104</td>\n",
       "      <td>-4.1472</td>\n",
       "      <td>-4.8584</td>\n",
       "      <td>-5.3973</td>\n",
       "      <td>-3.1831</td>\n",
       "    </tr>\n",
       "    <tr>\n",
       "      <th>25%</th>\n",
       "      <td>-0.5797</td>\n",
       "      <td>-0.2514</td>\n",
       "      <td>-0.3642</td>\n",
       "      <td>-0.4627</td>\n",
       "      <td>-0.5508</td>\n",
       "      <td>-0.4962</td>\n",
       "      <td>-0.5496</td>\n",
       "      <td>-0.5189</td>\n",
       "      <td>-0.1488</td>\n",
       "      <td>-0.6176</td>\n",
       "    </tr>\n",
       "    <tr>\n",
       "      <th>50%</th>\n",
       "      <td>-0.0348</td>\n",
       "      <td>0.0316</td>\n",
       "      <td>0.0308</td>\n",
       "      <td>0.0655</td>\n",
       "      <td>0.0034</td>\n",
       "      <td>0.0727</td>\n",
       "      <td>0.0389</td>\n",
       "      <td>-0.0036</td>\n",
       "      <td>-0.0708</td>\n",
       "      <td>-0.0096</td>\n",
       "    </tr>\n",
       "    <tr>\n",
       "      <th>75%</th>\n",
       "      <td>0.5101</td>\n",
       "      <td>0.3364</td>\n",
       "      <td>0.4128</td>\n",
       "      <td>0.5274</td>\n",
       "      <td>0.5919</td>\n",
       "      <td>0.6334</td>\n",
       "      <td>0.5822</td>\n",
       "      <td>0.5764</td>\n",
       "      <td>0.2494</td>\n",
       "      <td>0.5463</td>\n",
       "    </tr>\n",
       "    <tr>\n",
       "      <th>max</th>\n",
       "      <td>4.8693</td>\n",
       "      <td>5.6921</td>\n",
       "      <td>7.2647</td>\n",
       "      <td>6.8270</td>\n",
       "      <td>4.0713</td>\n",
       "      <td>2.9878</td>\n",
       "      <td>3.9375</td>\n",
       "      <td>6.4527</td>\n",
       "      <td>11.3969</td>\n",
       "      <td>6.3090</td>\n",
       "    </tr>\n",
       "  </tbody>\n",
       "</table>\n",
       "</div>"
      ],
      "text/plain": [
       "         UNRATE     TB3MS       RPI    INDPRO  DPCERA3M086SBEA   S&P 500  \\\n",
       "count  611.0000  611.0000  610.0000  610.0000         610.0000  610.0000   \n",
       "mean    -0.0000   -0.0000    0.0000   -0.0000           0.0000   -0.0000   \n",
       "std      1.0000    1.0000    1.0000    1.0000           1.0000    1.0000   \n",
       "min     -3.8490  -10.0483   -5.7283   -5.5692          -5.0701   -6.4104   \n",
       "25%     -0.5797   -0.2514   -0.3642   -0.4627          -0.5508   -0.4962   \n",
       "50%     -0.0348    0.0316    0.0308    0.0655           0.0034    0.0727   \n",
       "75%      0.5101    0.3364    0.4128    0.5274           0.5919    0.6334   \n",
       "max      4.8693    5.6921    7.2647    6.8270           4.0713    2.9878   \n",
       "\n",
       "       BUSLOANS  CPIAUCSL  OILPRICEx      M2SL  \n",
       "count  610.0000  610.0000   610.0000  610.0000  \n",
       "mean     0.0000   -0.0000     0.0000   -0.0000  \n",
       "std      1.0000    1.0000     1.0000    1.0000  \n",
       "min     -4.1472   -4.8584    -5.3973   -3.1831  \n",
       "25%     -0.5496   -0.5189    -0.1488   -0.6176  \n",
       "50%      0.0389   -0.0036    -0.0708   -0.0096  \n",
       "75%      0.5822    0.5764     0.2494    0.5463  \n",
       "max      3.9375    6.4527    11.3969    6.3090  "
      ]
     },
     "execution_count": 28,
     "metadata": {},
     "output_type": "execute_result"
    }
   ],
   "source": [
    "df_stationary_train_normalized.describe().round(4)"
   ]
  },
  {
   "cell_type": "markdown",
   "id": "7a4143e5",
   "metadata": {},
   "source": [
    "La moyenne est égale à 0 et l'écart-type à 1 pour toutes les variables. Ce qui veut dire qu'elles sont centrées et réduites. "
   ]
  },
  {
   "cell_type": "markdown",
   "id": "4116d037",
   "metadata": {},
   "source": [
    "# Exporter les données"
   ]
  },
  {
   "cell_type": "code",
   "execution_count": 29,
   "id": "54868635",
   "metadata": {},
   "outputs": [],
   "source": [
    "df_stationary_train_normalized.to_csv(\"df_stationary_normalized_train.csv\")"
   ]
  }
 ],
 "metadata": {
  "kernelspec": {
   "display_name": "Python (Travaux pratiques Bases)",
   "language": "python",
   "name": "venv-travaux"
  },
  "language_info": {
   "codemirror_mode": {
    "name": "ipython",
    "version": 3
   },
   "file_extension": ".py",
   "mimetype": "text/x-python",
   "name": "python",
   "nbconvert_exporter": "python",
   "pygments_lexer": "ipython3",
   "version": "3.12.10"
  }
 },
 "nbformat": 4,
 "nbformat_minor": 5
}
