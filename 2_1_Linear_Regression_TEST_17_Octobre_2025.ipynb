{
 "cells": [
  {
   "cell_type": "markdown",
   "id": "2478ba5b",
   "metadata": {},
   "source": [
    "# Package"
   ]
  },
  {
   "cell_type": "code",
   "execution_count": 15,
   "id": "41027a0e",
   "metadata": {},
   "outputs": [],
   "source": [
    "import pandas as pd\n",
    "import numpy as np\n",
    "from sklearn.linear_model import LinearRegression\n",
    "import shap\n",
    "from sklearn.metrics import mean_absolute_error, mean_squared_error, r2_score\n",
    "from scipy.stats import pearsonr\n",
    "from sklearn.utils import shuffle\n",
    "import pickle\n",
    "from dateutil.relativedelta import relativedelta\n",
    "import pickle\n",
    "from statsmodels.tsa.ar_model import AutoReg"
   ]
  },
  {
   "cell_type": "markdown",
   "id": "22973a6a",
   "metadata": {},
   "source": [
    "# Importation"
   ]
  },
  {
   "cell_type": "code",
   "execution_count": 16,
   "id": "dedcdda1",
   "metadata": {},
   "outputs": [],
   "source": [
    "# Les données de test\n",
    "df_stationary_test = pd.read_csv(\"df_stationary_test.csv\", index_col=\"date\")\n",
    "df_stationary_test.index = pd.to_datetime(df_stationary_test.index)"
   ]
  },
  {
   "cell_type": "code",
   "execution_count": 17,
   "id": "eaefe5f5",
   "metadata": {},
   "outputs": [],
   "source": [
    "df_stationary_test_unrate = df_stationary_test[\"UNRATE\"]"
   ]
  },
  {
   "cell_type": "markdown",
   "id": "5b1c1c02",
   "metadata": {},
   "source": [
    "# Importer le modèle AR(1) final dans la validation"
   ]
  },
  {
   "cell_type": "code",
   "execution_count": 18,
   "id": "3a1f32f8",
   "metadata": {},
   "outputs": [
    {
     "name": "stdout",
     "output_type": "stream",
     "text": [
      "trained_until    1988-11-01 00:00:00\n",
      "p_used                             1\n",
      "nobs                             346\n",
      "aic                164.6473364963893\n",
      "bic               176.18665282156246\n",
      "eval_start                1983-01-01\n",
      "eval_end                  1989-12-31\n",
      "mae_83_89         0.9775539701031503\n",
      "rmse_83_89        1.4610097145509617\n",
      "r2_83_89         -1.7237671605297926\n",
      "n_eval                            83\n",
      "Name: 0, dtype: object\n"
     ]
    }
   ],
   "source": [
    "with open(\"AR1_last_trained_model.pkl\", \"rb\") as f:\n",
    "    ar1 = pickle.load(f)\n",
    "\n",
    "# Utile pour savoir sur quoi il a été entraîné\n",
    "try:\n",
    "    meta = pd.read_csv(\"AR1_last_trained_model_meta.csv\", index_col=0).squeeze(\"columns\")\n",
    "    print(meta)\n",
    "except FileNotFoundError:\n",
    "    meta = None"
   ]
  },
  {
   "cell_type": "markdown",
   "id": "ce5d5d41",
   "metadata": {},
   "source": [
    "# Tester le modèle AR(1)"
   ]
  },
  {
   "cell_type": "code",
   "execution_count": 19,
   "id": "ac2eb053",
   "metadata": {},
   "outputs": [
    {
     "name": "stdout",
     "output_type": "stream",
     "text": [
      "\n",
      "✅ AR(1) OOS (h=12) — TEST 1990–2025 — n=382\n",
      "MAE = 0.976 | RMSE = 2.066 | R² = -0.695\n",
      "\n",
      "--- MAE/RMSE par année (1990–2025) ---\n",
      "         n       MAE      RMSE\n",
      "year                          \n",
      "1993   2.0  1.498653  1.499022\n",
      "1994  12.0  0.446063  0.548815\n",
      "1995  12.0  0.601402  0.672835\n",
      "1996  12.0  0.487258  0.671977\n",
      "1997  12.0  0.356406  0.409216\n",
      "1998  12.0  0.241908  0.281248\n",
      "1999  12.0  0.206554  0.252937\n",
      "2000  12.0  0.135741  0.177466\n",
      "2001  12.0  0.993441  1.122368\n",
      "2002  12.0  0.984497  1.075732\n",
      "2003  12.0  0.619897  0.727642\n",
      "2004  12.0  0.607788  0.694265\n",
      "2005  12.0  0.168884  0.226606\n",
      "2006  12.0  0.193603  0.227198\n",
      "2007  12.0  0.345020  0.442722\n",
      "2008  12.0  1.198255  1.290358\n",
      "2009  12.0  2.599408  2.737578\n",
      "2010  12.0  3.720531  3.900240\n",
      "2011  12.0  1.003851  1.284328\n",
      "2012  12.0  0.358421  0.441594\n",
      "2013  12.0  0.210179  0.284988\n",
      "2014  12.0  0.642944  0.716390\n",
      "2015  12.0  0.304527  0.344435\n",
      "2016  12.0  0.378560  0.422067\n",
      "2017  12.0  0.369318  0.409792\n",
      "2018  12.0  0.195516  0.248363\n",
      "2019  12.0  0.204821  0.245627\n",
      "2020  12.0  4.679801  5.820541\n",
      "2021  12.0  6.360347  8.097459\n",
      "2022  12.0  1.277347  1.744969\n",
      "2023  12.0  0.365433  0.395027\n",
      "2024  12.0  0.443962  0.468975\n",
      "2025   8.0  0.166978  0.189285\n",
      "\n",
      "Aperçu des premières prévisions TEST :\n",
      "               y_hat  y_true trained_until  year\n",
      "date                                            \n",
      "1993-11-01  0.731910    -0.8    1992-11-01  1993\n",
      "1993-12-01  0.565396    -0.9    1992-12-01  1993\n",
      "1994-01-01  0.465674    -0.7    1993-01-01  1994\n",
      "1994-02-01  0.117935    -0.5    1993-02-01  1994\n",
      "1994-03-01 -0.089604    -0.5    1993-03-01  1994\n"
     ]
    }
   ],
   "source": [
    "# --- 2️⃣ Charger série TEST ---\n",
    "y = df_stationary_test_unrate.sort_index().astype(float).dropna()\n",
    "y.index = pd.to_datetime(y.index).to_period(\"M\").to_timestamp(how=\"start\")\n",
    "y = y.asfreq(\"MS\")\n",
    "\n",
    "# --- 3️⃣ Paramètres ---\n",
    "h = 12\n",
    "min_train_n = 36\n",
    "test_start = pd.Timestamp(\"1990-01-01\")\n",
    "test_end   = pd.Timestamp(\"2025-12-31\")\n",
    "\n",
    "rows = []\n",
    "last_model = ar1\n",
    "last_fit_end = pd.Timestamp(meta.get(\"trained_until\")) if meta is not None and \"trained_until\" in meta else None\n",
    "\n",
    "# --- 4️⃣ Expanding sur période TEST uniquement ---\n",
    "for t_end in y.index:\n",
    "    if len(y.loc[:t_end]) < min_train_n:\n",
    "        continue\n",
    "\n",
    "    # ré-entraîner AR(1) avec toutes les données connues jusqu’à t_end\n",
    "    y_tr = y.loc[:t_end]\n",
    "    ar1 = AutoReg(y_tr, lags=1, old_names=False).fit()\n",
    "    last_model = ar1\n",
    "    last_fit_end = t_end\n",
    "\n",
    "    # prévision h=12\n",
    "    fc = ar1.predict(start=len(y_tr), end=len(y_tr)+h-1)\n",
    "    yhat_h = float(fc.iloc[-1])\n",
    "    t_fore = t_end + relativedelta(months=h)\n",
    "\n",
    "    if t_fore in y.index:\n",
    "        rows.append((t_fore, yhat_h, float(y.loc[t_fore]), t_end))\n",
    "\n",
    "# --- 5️⃣ Agrégation des résultats ---\n",
    "df_oos_ar1_test = (\n",
    "    pd.DataFrame(rows, columns=[\"date\",\"y_hat\",\"y_true\",\"trained_until\"])\n",
    "      .set_index(\"date\").sort_index()\n",
    ")\n",
    "\n",
    "# --- 6️⃣ Évaluation TEST 1990–2025 ---\n",
    "if len(df_oos_ar1_test) > 0:\n",
    "    mae  = mean_absolute_error(df_oos_ar1_test[\"y_true\"], df_oos_ar1_test[\"y_hat\"])\n",
    "    rmse = np.sqrt(mean_squared_error(df_oos_ar1_test[\"y_true\"], df_oos_ar1_test[\"y_hat\"]))\n",
    "    r2   = r2_score(df_oos_ar1_test[\"y_true\"], df_oos_ar1_test[\"y_hat\"]) if len(df_oos_ar1_test) > 1 else np.nan\n",
    "\n",
    "    print(f\"\\n✅ AR(1) OOS (h=12) — TEST 1990–2025 — n={len(df_oos_ar1_test)}\")\n",
    "    print(f\"MAE = {mae:.3f} | RMSE = {rmse:.3f} | R² = {r2:.3f}\")\n",
    "\n",
    "    df_oos_ar1_test[\"year\"] = df_oos_ar1_test.index.year\n",
    "    yearly = (\n",
    "        df_oos_ar1_test.groupby(\"year\")[[\"y_true\",\"y_hat\"]]\n",
    "        .apply(lambda g: pd.Series({\n",
    "            \"n\": len(g),\n",
    "            \"MAE\": mean_absolute_error(g[\"y_true\"], g[\"y_hat\"]),\n",
    "            \"RMSE\": np.sqrt(mean_squared_error(g[\"y_true\"], g[\"y_hat\"]))\n",
    "        }))\n",
    "    )\n",
    "    print(\"\\n--- MAE/RMSE par année (1990–2025) ---\")\n",
    "    print(yearly.to_string())\n",
    "else:\n",
    "    print(\"⚠️ Aucune observation dans la période TEST.\")\n",
    "\n",
    "# --- 7️⃣ Aperçu final ---\n",
    "print(\"\\nAperçu des premières prévisions TEST :\")\n",
    "print(df_oos_ar1_test.head())"
   ]
  }
 ],
 "metadata": {
  "kernelspec": {
   "display_name": "Python 3",
   "language": "python",
   "name": "python3"
  },
  "language_info": {
   "codemirror_mode": {
    "name": "ipython",
    "version": 3
   },
   "file_extension": ".py",
   "mimetype": "text/x-python",
   "name": "python",
   "nbconvert_exporter": "python",
   "pygments_lexer": "ipython3",
   "version": "3.12.6"
  }
 },
 "nbformat": 4,
 "nbformat_minor": 5
}
