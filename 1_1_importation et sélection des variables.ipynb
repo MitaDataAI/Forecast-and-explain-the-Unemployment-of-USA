{
 "cells": [
  {
   "cell_type": "markdown",
   "id": "a35c5368",
   "metadata": {},
   "source": [
    "# Package"
   ]
  },
  {
   "cell_type": "code",
   "execution_count": 2,
   "id": "e2dc7408",
   "metadata": {},
   "outputs": [],
   "source": [
    "import pandas as pd"
   ]
  },
  {
   "cell_type": "markdown",
   "id": "e99e896d",
   "metadata": {},
   "source": [
    "# Importer les données"
   ]
  },
  {
   "cell_type": "code",
   "execution_count": 3,
   "id": "59f1679a",
   "metadata": {},
   "outputs": [],
   "source": [
    "df = pd.read_csv(\"2025-09-MD.csv\")\n",
    "\n",
    "# Supprimer la première ligne\n",
    "df = df[1:]\n",
    "\n",
    "# Définir \"date\" comme index\n",
    "df = df.rename(columns = {\"sasdate\" : \"date\"})\n",
    "df.index = pd.to_datetime(df[\"date\"])\n",
    "df = df.drop(\"date\", axis = 1)"
   ]
  },
  {
   "cell_type": "code",
   "execution_count": 4,
   "id": "f1971e05",
   "metadata": {},
   "outputs": [
    {
     "name": "stdout",
     "output_type": "stream",
     "text": [
      "Nous avons 800 observations et 126 variables.\n"
     ]
    }
   ],
   "source": [
    "print(\"Nous avons\", df.shape[0], \"observations et\", df.shape[1], \"variables.\")"
   ]
  },
  {
   "cell_type": "code",
   "execution_count": 8,
   "id": "9a117f97",
   "metadata": {},
   "outputs": [
    {
     "name": "stdout",
     "output_type": "stream",
     "text": [
      "date de début :  1959-01-01 00:00:00\n",
      "date de fin :  2025-08-01 00:00:00\n",
      "la fréquence des données :  MS\n"
     ]
    }
   ],
   "source": [
    "# Beginning and the end of the time series\n",
    "print(\"date de début : \", df.index[0])\n",
    "print(\"date de fin : \", df.index[-1])\n",
    "\n",
    "# The \n",
    "print(\"la fréquence des données : \", pd.infer_freq(df.index))"
   ]
  },
  {
   "cell_type": "markdown",
   "id": "fb7bab48",
   "metadata": {},
   "source": [
    "Nous observons que le jeu de données couvre la période allant de 1959 à 2025. Nous constatons également une fréquence trimestrielle.\n",
    "\n",
    "Passons maintenant à la sélection des variables explicatives (features)."
   ]
  },
  {
   "cell_type": "markdown",
   "id": "1c1fd207",
   "metadata": {},
   "source": [
    "# Sélection des variables"
   ]
  },
  {
   "cell_type": "markdown",
   "id": "f4e331cf",
   "metadata": {},
   "source": [
    "La sélection des variables ici présente a été faite en amont par des experts. Pour plus de détails, référez-vous au travail de Buckmann, M. & Joseph, A. (2022) dans : https://link.springer.com/chapter/10.1007/978-3-030-66891-4_3"
   ]
  },
  {
   "cell_type": "code",
   "execution_count": 10,
   "id": "db888fb1",
   "metadata": {},
   "outputs": [],
   "source": [
    "col_names = [\"UNRATE\", \n",
    "             # Unemployement\n",
    "              \"TB3MS\", # 3-month treasury bill\n",
    "                \"RPI\", # Industrial personal income\n",
    "                \"INDPRO\", # Industrial production\n",
    "                \"DPCERA3M086SBEA\", # Consumption\n",
    "                \"S&P 500\", # S&P 500\n",
    "                \"BUSLOANS\", # BUSLOANS\n",
    "                \"CPIAUCSL\", # CPIAUCSL\n",
    "                \"OILPRICEx\", # OILPRICEx\n",
    "                \"M2SL\"]\n",
    "\n",
    "df = df[col_names]"
   ]
  },
  {
   "cell_type": "markdown",
   "id": "4c376619",
   "metadata": {},
   "source": [
    "- UNRATE: Civilian unemployment rate, percent of labor force.\n",
    "- TB3MS: 3-Month Treasury Bill Rate, percent per annum (yield).\n",
    "- RPI: Real Personal Income, billions of chained 2012 U.S. dollars (SAAR).\n",
    "- INDPRO: Industrial Production Index, index (2017 = 100).\n",
    "- DPCERA3M086SBEA: Real Personal Consumption Expenditures, billions of chained 2012 U.S. dollars (SAAR).\n",
    "- S&P 500: Standard & Poor’s 500 Index, index level (price index, no dividends).\n",
    "- BUSLOANS: Commercial and Industrial Loans, billions of U.S. dollars.\n",
    "- CPIAUCSL: Consumer Price Index for All Urban Consumers, index (1982–84 = 100).\n",
    "- OILPRICEx: Crude Oil, West Texas Intermediate (WTI), U.S. dollars per barrel.\n",
    "- M2SL: M2 Money Stock, billions of U.S. dollars."
   ]
  }
 ],
 "metadata": {
  "kernelspec": {
   "display_name": "Python 3",
   "language": "python",
   "name": "python3"
  },
  "language_info": {
   "codemirror_mode": {
    "name": "ipython",
    "version": 3
   },
   "file_extension": ".py",
   "mimetype": "text/x-python",
   "name": "python",
   "nbconvert_exporter": "python",
   "pygments_lexer": "ipython3",
   "version": "3.12.6"
  }
 },
 "nbformat": 4,
 "nbformat_minor": 5
}
