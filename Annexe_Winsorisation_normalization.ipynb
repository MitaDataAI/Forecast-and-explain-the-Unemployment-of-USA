{
 "cells": [
  {
   "cell_type": "markdown",
   "id": "3e843780",
   "metadata": {},
   "source": [
    "# Package"
   ]
  },
  {
   "cell_type": "code",
   "execution_count": 1,
   "id": "8438fa14",
   "metadata": {},
   "outputs": [],
   "source": [
    "import pandas as pd"
   ]
  },
  {
   "cell_type": "markdown",
   "id": "8766ef4f",
   "metadata": {},
   "source": [
    "# Importer les données d'entrainement stationnarisées"
   ]
  },
  {
   "cell_type": "code",
   "execution_count": 18,
   "id": "4bdea73f",
   "metadata": {},
   "outputs": [],
   "source": [
    "df_stationary_train = pd.read_csv(\"df_stationary_train.csv\", index_col=\"date\")\n",
    "df_stationary_test = pd.read_csv(\"df_stationary_test.csv\", index_col=\"date\")"
   ]
  },
  {
   "cell_type": "code",
   "execution_count": 19,
   "id": "54aee739",
   "metadata": {},
   "outputs": [],
   "source": [
    "df_stationary_train_origin = df_stationary_train.copy()\n",
    "df_stationary_test_origin = df_stationary_test.copy()"
   ]
  },
  {
   "cell_type": "markdown",
   "id": "530eb2ed",
   "metadata": {},
   "source": [
    "# Winsorisation"
   ]
  },
  {
   "cell_type": "code",
   "execution_count": 20,
   "id": "a7b94a70",
   "metadata": {},
   "outputs": [
    {
     "data": {
      "text/plain": [
       "['UNRATE',\n",
       " 'TB3MS',\n",
       " 'RPI',\n",
       " 'INDPRO',\n",
       " 'DPCERA3M086SBEA',\n",
       " 'S&P 500',\n",
       " 'BUSLOANS',\n",
       " 'CPIAUCSL',\n",
       " 'OILPRICEx',\n",
       " 'M2SL',\n",
       " 'USREC']"
      ]
     },
     "execution_count": 20,
     "metadata": {},
     "output_type": "execute_result"
    }
   ],
   "source": [
    "df_stationary_train.columns.tolist()"
   ]
  },
  {
   "cell_type": "code",
   "execution_count": 21,
   "id": "42176d82",
   "metadata": {},
   "outputs": [],
   "source": [
    "# Niveau de winsorisation (1er et 99e percentiles)\n",
    "winsor_level = 0.01"
   ]
  },
  {
   "cell_type": "code",
   "execution_count": 22,
   "id": "116bb8fe",
   "metadata": {},
   "outputs": [],
   "source": [
    "# 1️⃣ Sélectionner les variables à winsoriser\n",
    "features_winsorise = [c for c in df_stationary_train.columns if c not in [\"UNRATE\", \"USREC\"]]"
   ]
  },
  {
   "cell_type": "code",
   "execution_count": 23,
   "id": "9726789b",
   "metadata": {},
   "outputs": [],
   "source": [
    "# 2️⃣ Calculer les bornes sur TRAIN uniquement\n",
    "lower_wins = df_stationary_train[features_winsorise].quantile(winsor_level)\n",
    "upper_wins = df_stationary_train[features_winsorise].quantile(1 - winsor_level)"
   ]
  },
  {
   "cell_type": "code",
   "execution_count": 24,
   "id": "209eab21",
   "metadata": {},
   "outputs": [],
   "source": [
    "# 3️⃣ Appliquer les bornes sur TRAIN et TEST\n",
    "df_stationary_train[features_winsorise] = df_stationary_train[features_winsorise].clip(lower=lower_wins, upper=upper_wins, axis=1)\n",
    "df_stationary_test[features_winsorise] = df_stationary_test[features_winsorise].clip(lower=lower_wins, upper=upper_wins, axis=1)"
   ]
  },
  {
   "cell_type": "code",
   "execution_count": 28,
   "id": "0fba81f5",
   "metadata": {},
   "outputs": [
    {
     "name": "stdout",
     "output_type": "stream",
     "text": [
      "\n",
      "Avant winsorisation (TRAIN):\n",
      "                 count      mean       std       min        1%       50%  \\\n",
      "TB3MS            360.0  0.028528  1.149890 -8.130000 -4.390700  0.090000   \n",
      "RPI              360.0  0.009316  0.007655 -0.021149 -0.011443  0.009558   \n",
      "INDPRO           360.0  0.008371  0.019834 -0.084022 -0.052639  0.009814   \n",
      "DPCERA3M086SBEA  360.0  0.009182  0.009592 -0.029380 -0.016657  0.009015   \n",
      "S&P 500          360.0  0.014903  0.071694 -0.296015 -0.200755  0.019855   \n",
      "BUSLOANS         360.0 -0.000111  0.016990 -0.057920 -0.041372 -0.000079   \n",
      "CPIAUCSL         360.0  0.000034  0.006034 -0.023800 -0.016642 -0.000079   \n",
      "OILPRICEx        360.0  0.016028  0.123623 -0.769121 -0.225183  0.000000   \n",
      "M2SL             360.0  0.000133  0.008115 -0.036937 -0.018044 -0.000234   \n",
      "\n",
      "                      99%       max  \n",
      "TB3MS            3.282000  5.220000  \n",
      "RPI              0.030471  0.036704  \n",
      "INDPRO           0.047281  0.091980  \n",
      "DPCERA3M086SBEA  0.032722  0.037792  \n",
      "S&P 500          0.158087  0.230229  \n",
      "BUSLOANS         0.042710  0.049811  \n",
      "CPIAUCSL         0.014628  0.019806  \n",
      "OILPRICEx        0.389016  0.852587  \n",
      "M2SL             0.020134  0.037658  \n"
     ]
    }
   ],
   "source": [
    "# 4️⃣ Vérification rapide\n",
    "print(\"\\nAvant winsorisation (TRAIN):\")\n",
    "print(df_stationary_train_origin[features_winsorise].describe(percentiles=[0.01, 0.99]).T)"
   ]
  },
  {
   "cell_type": "code",
   "execution_count": null,
   "id": "daf8f780",
   "metadata": {},
   "outputs": [
    {
     "name": "stdout",
     "output_type": "stream",
     "text": [
      "\n",
      "Après winsorisation (TRAIN):\n",
      "                 count      mean       std       min        1%       50%  \\\n",
      "TB3MS            360.0  0.032014  1.038703 -4.390700 -4.325387  0.090000   \n",
      "RPI              360.0  0.009303  0.007294 -0.011443 -0.011212  0.009558   \n",
      "INDPRO           360.0  0.008360  0.018321 -0.052639 -0.050514  0.009814   \n",
      "DPCERA3M086SBEA  360.0  0.009240  0.009238 -0.016657 -0.015885  0.009015   \n",
      "S&P 500          360.0  0.015199  0.067595 -0.200755 -0.187163  0.019855   \n",
      "BUSLOANS         360.0 -0.000093  0.016620 -0.041372 -0.041079 -0.000079   \n",
      "CPIAUCSL         360.0  0.000019  0.005795 -0.016642 -0.016574 -0.000079   \n",
      "OILPRICEx        360.0  0.016000  0.083200 -0.225183 -0.213951  0.000000   \n",
      "M2SL             360.0  0.000142  0.007428 -0.018044 -0.017882 -0.000234   \n",
      "\n",
      "                      99%       max  \n",
      "TB3MS            3.233620  3.282000  \n",
      "RPI              0.028593  0.030471  \n",
      "INDPRO           0.046355  0.047281  \n",
      "DPCERA3M086SBEA  0.032602  0.032722  \n",
      "S&P 500          0.156229  0.158087  \n",
      "BUSLOANS         0.041626  0.042710  \n",
      "CPIAUCSL         0.013393  0.014628  \n",
      "OILPRICEx        0.384424  0.389016  \n",
      "M2SL             0.020090  0.020134  \n"
     ]
    }
   ],
   "source": [
    "print(\"\\nAprès winsorisation (TRAIN):\")\n",
    "print(df_stationary_train[features_winsorise].describe(percentiles=[0.01, 0.99]).T)"
   ]
  },
  {
   "cell_type": "code",
   "execution_count": 34,
   "id": "adaac94b",
   "metadata": {},
   "outputs": [
    {
     "data": {
      "image/png": "[encoded data removed]",
      "text/plain": [
       "<Figure size 1000x500 with 2 Axes>"
      ]
     },
     "metadata": {},
     "output_type": "display_data"
    }
   ],
   "source": [
    "import matplotlib.pyplot as plt\n",
    "import seaborn as sns\n",
    "\n",
    "# Variable à comparer\n",
    "var = \"TB3MS\"\n",
    "\n",
    "# Données avant/après\n",
    "before = df_stationary_train_origin[var]\n",
    "after = df_stationary_train[var]\n",
    "\n",
    "# Créer les deux axes côte à côte\n",
    "fig, (ax1, ax2) = plt.subplots(1, 2, figsize=(10, 5), sharey=True)\n",
    "\n",
    "# Boxplot avant winsorisation\n",
    "sns.boxplot(y=before, color=\"#ff7f0e\", ax=ax1)\n",
    "ax1.set_title(f\"{var} - Avant winsorisation\")\n",
    "ax1.set_ylabel(\"Valeur\")\n",
    "ax1.grid(alpha=0.3)\n",
    "\n",
    "# Boxplot après winsorisation\n",
    "sns.boxplot(y=after, color=\"#1f77b4\", ax=ax2)\n",
    "ax2.set_title(f\"{var} - Après winsorisation\")\n",
    "ax2.set_ylabel(\"\")\n",
    "ax2.grid(alpha=0.3)\n",
    "\n",
    "# Ajuster les marges\n",
    "plt.suptitle(f\"Effet de la winsorisation sur {var}\", fontsize=13)\n",
    "plt.tight_layout()\n",
    "plt.show()"
   ]
  },
  {
   "cell_type": "markdown",
   "id": "633d42d2",
   "metadata": {},
   "source": [
    "On voit clairement que le winsorisation a marché pour la variable TBMS. Au lieu d'avoir des valeurs dépassant 4 et -4.5, actuellement ce n'est plus le cas. Dans les autres variables, le changement aussi a bien fonctionné."
   ]
  },
  {
   "cell_type": "markdown",
   "id": "d361e171",
   "metadata": {},
   "source": [
    "# Normalisation"
   ]
  },
  {
   "cell_type": "code",
   "execution_count": 35,
   "id": "13616ec3",
   "metadata": {},
   "outputs": [],
   "source": [
    "df_stationary_train_normalized = df_stationary_train.apply(lambda col : ((col - col.mean()) / col.std()))\n",
    "df_stationary_test_normalized = df_stationary_test.apply(lambda col : ((col - col.mean()) / col.std()))"
   ]
  },
  {
   "cell_type": "code",
   "execution_count": 36,
   "id": "55abd75b",
   "metadata": {},
   "outputs": [
    {
     "data": {
      "text/html": [
       "<div>\n",
       "<style scoped>\n",
       "    .dataframe tbody tr th:only-of-type {\n",
       "        vertical-align: middle;\n",
       "    }\n",
       "\n",
       "    .dataframe tbody tr th {\n",
       "        vertical-align: top;\n",
       "    }\n",
       "\n",
       "    .dataframe thead th {\n",
       "        text-align: right;\n",
       "    }\n",
       "</style>\n",
       "<table border=\"1\" class=\"dataframe\">\n",
       "  <thead>\n",
       "    <tr style=\"text-align: right;\">\n",
       "      <th></th>\n",
       "      <th>UNRATE</th>\n",
       "      <th>TB3MS</th>\n",
       "      <th>RPI</th>\n",
       "      <th>INDPRO</th>\n",
       "      <th>DPCERA3M086SBEA</th>\n",
       "      <th>S&amp;P 500</th>\n",
       "      <th>BUSLOANS</th>\n",
       "      <th>CPIAUCSL</th>\n",
       "      <th>OILPRICEx</th>\n",
       "      <th>M2SL</th>\n",
       "      <th>USREC</th>\n",
       "    </tr>\n",
       "  </thead>\n",
       "  <tbody>\n",
       "    <tr>\n",
       "      <th>count</th>\n",
       "      <td>360.0000</td>\n",
       "      <td>360.0000</td>\n",
       "      <td>360.0000</td>\n",
       "      <td>360.0000</td>\n",
       "      <td>360.0000</td>\n",
       "      <td>360.0000</td>\n",
       "      <td>360.0000</td>\n",
       "      <td>360.0000</td>\n",
       "      <td>360.0000</td>\n",
       "      <td>360.0000</td>\n",
       "      <td>360.0000</td>\n",
       "    </tr>\n",
       "    <tr>\n",
       "      <th>mean</th>\n",
       "      <td>0.0000</td>\n",
       "      <td>-0.0000</td>\n",
       "      <td>0.0000</td>\n",
       "      <td>0.0000</td>\n",
       "      <td>-0.0000</td>\n",
       "      <td>-0.0000</td>\n",
       "      <td>0.0000</td>\n",
       "      <td>-0.0000</td>\n",
       "      <td>-0.0000</td>\n",
       "      <td>0.0000</td>\n",
       "      <td>-0.0000</td>\n",
       "    </tr>\n",
       "    <tr>\n",
       "      <th>std</th>\n",
       "      <td>1.0000</td>\n",
       "      <td>1.0000</td>\n",
       "      <td>1.0000</td>\n",
       "      <td>1.0000</td>\n",
       "      <td>1.0000</td>\n",
       "      <td>1.0000</td>\n",
       "      <td>1.0000</td>\n",
       "      <td>1.0000</td>\n",
       "      <td>1.0000</td>\n",
       "      <td>1.0000</td>\n",
       "      <td>1.0000</td>\n",
       "    </tr>\n",
       "    <tr>\n",
       "      <th>min</th>\n",
       "      <td>-2.5800</td>\n",
       "      <td>-4.2579</td>\n",
       "      <td>-2.8444</td>\n",
       "      <td>-3.3295</td>\n",
       "      <td>-2.8033</td>\n",
       "      <td>-3.1948</td>\n",
       "      <td>-2.4837</td>\n",
       "      <td>-2.8750</td>\n",
       "      <td>-2.8988</td>\n",
       "      <td>-2.4484</td>\n",
       "      <td>-0.4643</td>\n",
       "    </tr>\n",
       "    <tr>\n",
       "      <th>25%</th>\n",
       "      <td>-0.6184</td>\n",
       "      <td>-0.3485</td>\n",
       "      <td>-0.5399</td>\n",
       "      <td>-0.4567</td>\n",
       "      <td>-0.5918</td>\n",
       "      <td>-0.6012</td>\n",
       "      <td>-0.6129</td>\n",
       "      <td>-0.5456</td>\n",
       "      <td>-0.1923</td>\n",
       "      <td>-0.6490</td>\n",
       "      <td>-0.4643</td>\n",
       "    </tr>\n",
       "    <tr>\n",
       "      <th>50%</th>\n",
       "      <td>-0.1726</td>\n",
       "      <td>0.0558</td>\n",
       "      <td>0.0349</td>\n",
       "      <td>0.0794</td>\n",
       "      <td>-0.0244</td>\n",
       "      <td>0.0689</td>\n",
       "      <td>0.0008</td>\n",
       "      <td>-0.0169</td>\n",
       "      <td>-0.1923</td>\n",
       "      <td>-0.0506</td>\n",
       "      <td>-0.4643</td>\n",
       "    </tr>\n",
       "    <tr>\n",
       "      <th>75%</th>\n",
       "      <td>0.3623</td>\n",
       "      <td>0.4433</td>\n",
       "      <td>0.6322</td>\n",
       "      <td>0.6180</td>\n",
       "      <td>0.6693</td>\n",
       "      <td>0.6642</td>\n",
       "      <td>0.6449</td>\n",
       "      <td>0.7131</td>\n",
       "      <td>0.0118</td>\n",
       "      <td>0.5886</td>\n",
       "      <td>-0.4643</td>\n",
       "    </tr>\n",
       "    <tr>\n",
       "      <th>max</th>\n",
       "      <td>3.4830</td>\n",
       "      <td>3.1289</td>\n",
       "      <td>2.9023</td>\n",
       "      <td>2.1244</td>\n",
       "      <td>2.5419</td>\n",
       "      <td>2.1139</td>\n",
       "      <td>2.5753</td>\n",
       "      <td>2.5210</td>\n",
       "      <td>4.4834</td>\n",
       "      <td>2.6915</td>\n",
       "      <td>2.1476</td>\n",
       "    </tr>\n",
       "  </tbody>\n",
       "</table>\n",
       "</div>"
      ],
      "text/plain": [
       "         UNRATE     TB3MS       RPI    INDPRO  DPCERA3M086SBEA   S&P 500  \\\n",
       "count  360.0000  360.0000  360.0000  360.0000         360.0000  360.0000   \n",
       "mean     0.0000   -0.0000    0.0000    0.0000          -0.0000   -0.0000   \n",
       "std      1.0000    1.0000    1.0000    1.0000           1.0000    1.0000   \n",
       "min     -2.5800   -4.2579   -2.8444   -3.3295          -2.8033   -3.1948   \n",
       "25%     -0.6184   -0.3485   -0.5399   -0.4567          -0.5918   -0.6012   \n",
       "50%     -0.1726    0.0558    0.0349    0.0794          -0.0244    0.0689   \n",
       "75%      0.3623    0.4433    0.6322    0.6180           0.6693    0.6642   \n",
       "max      3.4830    3.1289    2.9023    2.1244           2.5419    2.1139   \n",
       "\n",
       "       BUSLOANS  CPIAUCSL  OILPRICEx      M2SL     USREC  \n",
       "count  360.0000  360.0000   360.0000  360.0000  360.0000  \n",
       "mean     0.0000   -0.0000    -0.0000    0.0000   -0.0000  \n",
       "std      1.0000    1.0000     1.0000    1.0000    1.0000  \n",
       "min     -2.4837   -2.8750    -2.8988   -2.4484   -0.4643  \n",
       "25%     -0.6129   -0.5456    -0.1923   -0.6490   -0.4643  \n",
       "50%      0.0008   -0.0169    -0.1923   -0.0506   -0.4643  \n",
       "75%      0.6449    0.7131     0.0118    0.5886   -0.4643  \n",
       "max      2.5753    2.5210     4.4834    2.6915    2.1476  "
      ]
     },
     "execution_count": 36,
     "metadata": {},
     "output_type": "execute_result"
    }
   ],
   "source": [
    "df_stationary_train_normalized.describe().round(4)"
   ]
  },
  {
   "cell_type": "markdown",
   "id": "7a4143e5",
   "metadata": {},
   "source": [
    "La moyenne est égale à 0 et l'écart-type à 1 pour toutes les variables. Ce qui veut dire qu'elles sont centrées et réduites. "
   ]
  },
  {
   "cell_type": "markdown",
   "id": "4116d037",
   "metadata": {},
   "source": [
    "# Exporter les données"
   ]
  },
  {
   "cell_type": "code",
   "execution_count": 37,
   "id": "54868635",
   "metadata": {},
   "outputs": [],
   "source": [
    "df_stationary_train_normalized.to_csv(\"df_stationary_normalized_train.csv\")\n",
    "df_stationary_test_normalized.to_csv(\"df_stationary_normalized_test.csv\")"
   ]
  }
 ],
 "metadata": {
  "kernelspec": {
   "display_name": "Python (Travaux pratiques Bases)",
   "language": "python",
   "name": "venv-travaux"
  },
  "language_info": {
   "codemirror_mode": {
    "name": "ipython",
    "version": 3
   },
   "file_extension": ".py",
   "mimetype": "text/x-python",
   "name": "python",
   "nbconvert_exporter": "python",
   "pygments_lexer": "ipython3",
   "version": "3.12.10"
  }
 },
 "nbformat": 4,
 "nbformat_minor": 5
}
